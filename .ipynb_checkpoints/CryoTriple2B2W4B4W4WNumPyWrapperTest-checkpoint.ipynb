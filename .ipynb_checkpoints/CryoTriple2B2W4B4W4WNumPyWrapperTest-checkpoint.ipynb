{
 "cells": [
  {
   "cell_type": "markdown",
   "id": "bcdb472a",
   "metadata": {},
   "source": [
    "# Test of stuff exported from Mathematica for case \"MatrixElementExport\" of CryoTriple2B2W4B4W4W"
   ]
  },
  {
   "cell_type": "markdown",
   "id": "6df30bda",
   "metadata": {},
   "source": [
    "## Preliminaries"
   ]
  },
  {
   "cell_type": "raw",
   "id": "e391d0cf",
   "metadata": {},
   "source": [
    "NOTE: Edit the hardcoded path in the cell below to point to where CryoTriple2B2W4B4W4W_MatrixElementExport_triplep.py and symbexportCryoTriple2B2W4B4W4Wfull.py are located"
   ]
  },
  {
   "cell_type": "code",
   "execution_count": 6,
   "id": "9b65addb",
   "metadata": {},
   "outputs": [],
   "source": [
    "import sys\n",
    "sys.path.append(\"/Users/t.seetharamu.1/Documents/svn/GCIF/GCIF planning/Infrastructure cryogenics/CryoTriple2B2W4B4W4W_LUB/MatrixElementExport/MathematicaMatrixElementsCalc\")"
   ]
  },
  {
   "cell_type": "markdown",
   "id": "097ccdf2",
   "metadata": {},
   "source": [
    "### Other system dependencies"
   ]
  },
  {
   "cell_type": "code",
   "execution_count": 8,
   "id": "db82d514",
   "metadata": {},
   "outputs": [],
   "source": [
    "import os"
   ]
  },
  {
   "cell_type": "code",
   "execution_count": 9,
   "id": "bf3d1178",
   "metadata": {},
   "outputs": [],
   "source": [
    "from math import pi,sqrt"
   ]
  },
  {
   "cell_type": "code",
   "execution_count": 10,
   "id": "9454cdc5",
   "metadata": {},
   "outputs": [],
   "source": [
    "import numpy as np"
   ]
  },
  {
   "cell_type": "code",
   "execution_count": 11,
   "id": "61b339f9",
   "metadata": {},
   "outputs": [],
   "source": [
    "# import scipy.linalg"
   ]
  },
  {
   "cell_type": "code",
   "execution_count": 12,
   "id": "b3a50e01",
   "metadata": {},
   "outputs": [],
   "source": [
    "import control as ct"
   ]
  },
  {
   "cell_type": "code",
   "execution_count": 112,
   "id": "d214a6c0",
   "metadata": {},
   "outputs": [],
   "source": [
    "import os\n",
    "import pandas as pd\n",
    "import inspect\n",
    "from math import pi,sqrt\n",
    "from decimal import Decimal\n",
    "\n",
    "import numpy as np\n",
    "\n",
    "# import scipy.linalg\n",
    "from matplotlib.ticker import MultipleLocator\n",
    "import control as ct\n",
    "\n",
    "import matplotlib.pyplot as plt\n",
    "import importlib\n",
    "\n",
    "import matplotlib\n",
    "matplotlib.rcParams['font.sans-serif'] = \"Comic Sans MS\"\n",
    "# Then, \"ALWAYS use sans-serif fonts\"\n",
    "matplotlib.rcParams['font.family'] = \"sans-serif\"\n",
    "plt.rcParams['font.size'] = 18          # Default font size for text\n",
    "plt.rcParams['axes.titlesize'] = 22     # Font size for axes titles\n",
    "plt.rcParams['axes.labelsize'] = 18     # Font size for axes labels\n",
    "plt.rcParams['xtick.labelsize'] = 14    # Font size for x-axis tick labels\n",
    "plt.rcParams['ytick.labelsize'] = 14    # Font size for y-axis tick labels\n",
    "plt.rcParams['legend.fontsize'] = 15    # Font size for legend\n"
   ]
  },
  {
   "cell_type": "markdown",
   "id": "6b9bb7a6",
   "metadata": {},
   "source": [
    "## CryoTriple2B2W4B4W4B4W model definition data and matrix element functions exported from Mathematica "
   ]
  },
  {
   "cell_type": "code",
   "execution_count": 162,
   "id": "568ef3e8-bf60-47e7-850e-b42520921ba7",
   "metadata": {},
   "outputs": [
    {
     "name": "stdout",
     "output_type": "stream",
     "text": [
      "['g', 'm1', 'm2', 'm3', 'I1x', 'I1y', 'I1z', 'I1xy', 'I1yz', 'I1zx', 'I2x', 'I2y', 'I2z', 'I2xy', 'I2yz', 'I2zx', 'I3x', 'I3y', 'I3z', 'I3xy', 'I3yz', 'I3zx', 'dtop', 'd0', 'd1', 'd2', 'd3', 'd4', 'n0', 'n1', 'n2', 'n3', 'n4', 'n5', 'si', 'sl', 'kbuz', 'kblz', 'l1', 'l2', 'l3', 'kw1', 'kw2', 'kw3', 'Y1', 'Y2', 'Y3', 'M11', 'M21', 'M31']\n"
     ]
    }
   ],
   "source": [
    "print (tpmodel.stdcoeffs)\n",
    "\n",
    "# Call the pend function with the extracted values\n",
    "pend = tpmodel.pendSS(*[getattr(tp, coeff) for coeff in tpmodel.stdcoeffs])\n"
   ]
  },
  {
   "cell_type": "code",
   "execution_count": 187,
   "id": "853069d5",
   "metadata": {},
   "outputs": [],
   "source": [
    "\n",
    "n3 = 0.0405\n",
    "def reboot_params():\n",
    "    importlib.reload(tp)\n",
    "    tp.n3 = 0.0405\n",
    "    tp.n4 = n3\n",
    "    tp.n5 = n3\n",
    "    revised_sus_length = 0.298\n",
    "    tp.kw1= 1396.07\n",
    "    tp.kw2=tp.kw1\n",
    "    tp.kw3=70520.4\n",
    "    tp.l1 = revised_sus_length\n",
    "    tp.l2 = revised_sus_length\n",
    "    tp.l3 = revised_sus_length\n",
    "\n",
    "    \n",
    "    \n",
    "def original_params():\n",
    "    importlib.reload(tp)\n",
    "    revised_sus_length = 0.298\n",
    "\n",
    "\n",
    "    data =     [[\"Masses\", \"m1 / m2 / m3\", [round(tp.m1,2) ,round(tp.m2,2) ,round(tp.m3,2)]],\n",
    "\n",
    "    [\"Roll Moment of Inertia\", \"I1,x / I2,x / I3,x\",  [round(i,5) for i in [tp.I1x, tp.I2x , tp.I3x]]],\n",
    "\n",
    "    [\"Pitch Moment of Inertia\", \"I1,y / I2,y / I3,y\",  [round(i,5) for i in [tp.I1y, tp.I2y , tp.I3y]]],\n",
    "\n",
    "    [\"Yaw Moment of Inertia\", \"I1,z / I2,z / I3,z\", [round(i,5) for i in [tp.I1z, tp.I2z , tp.I3z]]],\n",
    "    \n",
    "            [\"Stretched wire lengths\", \"l1 / l2 / l3\", [tp.l1 , tp.l2, tp.l3]], \n",
    "            [\"Upper end wire vertical attachment distance\", \"dtop / d1/ d3 \" , [round(i,3) for i in [tp.dtop, tp.d1 , tp.d3]]],\n",
    "            [\"Bottom end wire vertical attachment distance\", \"d0 / d2 / d4\" , [round(i,3) for i in [tp.d0 , tp.d2, tp.d4]]],\n",
    "            \n",
    "            [\"Longitudinal wire separation\" , \"su / si / sl\", [0, tp.si , tp.sl]],\n",
    "            [\"Upper transverse wire separation\", \"n0 / n2 / n4 \", [tp.n0, tp.n2 , tp.n4]],\n",
    "            [\"Bottom transverse wire separation\", \"n1 / n3 / n5 \", [tp.n1, tp.n3 , tp.n5]],\n",
    "            [\"Vertical Spring stiffness\", \"kbuz / kbiz / kblz\", [tp.kbuz, \"NA\", tp.kblz]],\n",
    "            [\"Wire Lengths\", \"l1 / l2 / l3\", [tp.l1 , tp.l2 , tp.l3]],\n",
    "            [\"Youngs Moduli of the wires\", \"Y1 / Y2 / Y3\", ['%.5E' % Decimal(tp.Y1), '%.5E' % Decimal(tp.Y2), '%.5E' % Decimal(tp.Y3)]]]\n",
    "\n",
    "\n",
    "\n",
    "    params = pd.DataFrame(data, columns = [\"Description\", \"Parameter\",\"Values\"])\n",
    "    # Setting display options\n",
    "    pd.set_option('display.width', 1000)  # Set width to a large value to prevent wrapping\n",
    "    pd.set_option('display.max_colwidth', None)  # Display full contents of each cell without truncation\n",
    "    print(params)\n",
    "    \n",
    "def print_modes(eigens):\n",
    "    Hz = eigens[0]\n",
    "    evecs = eigens[1]\n",
    "    dofs = []\n",
    "    dof_amps = []\n",
    "    for j in range(0,18): \n",
    "        df =pd.DataFrame(np.array(list(zip(tpmodel.allvars,list(evecs[j])))), columns=[\"DOF\",\"Amp\"])\n",
    "        df[\"Amp\"] = [(round(float(i),2)) for i in list(df[\"Amp\"])] \n",
    "        df = (df[df[\"Amp\"]!=0])\n",
    "        df = df.sort_values(by='Amp', ascending=False, key=abs)\n",
    "        dofs.append(np.array(df[\"DOF\"]))\n",
    "        dof_amps.append(np.array(df[\"Amp\"]))\n",
    "        \n",
    "    modes = pd.DataFrame({\"Freq\":Hz, \"DOF\":dofs, \"Amps\":dof_amps})\n",
    "    \n",
    "    def calculate_ratio(row):\n",
    "        dof = row['DOF']\n",
    "        amps = row['Amps']\n",
    "        \n",
    "        # Identify the mode type from the first entry\n",
    "        mode = dof[0].rstrip('123')\n",
    "        \n",
    "        # Find indices of first and third occurrences for the identified mode\n",
    "        first_idx = next((i for i, d in enumerate(dof) if d.startswith(mode + '1')), None)\n",
    "        third_idx = next((i for i, d in enumerate(dof) if d.startswith(mode + '3')), None)\n",
    "        \n",
    "        # Calculate the ratio if both indices are found\n",
    "        if first_idx is not None and third_idx is not None:\n",
    "            return amps[first_idx] / amps[third_idx] if amps[third_idx] != 0 else None\n",
    "        return None\n",
    "\n",
    "    # Apply the function and create a new column\n",
    "    modes['Mode_vis'] = modes.apply(calculate_ratio, axis=1)\n",
    "\n",
    "# # Display the updated dataframe\n",
    "# display(df)\n",
    "    return modes\n",
    "        \n",
    "#         print (Hz[0])\n",
    "def mode_forest(mode_amp, fig=None, ax = None):\n",
    "    Hz = mode_amp[0]\n",
    "    evecs = mode_amp[1]\n",
    "    dofs = []\n",
    "    dof_amps = []\n",
    "    for j in range(0,18): \n",
    "        df =pd.DataFrame(np.array(list(zip(tpmodel.allvars,list(evecs[j])))), columns=[\"DOF\",\"Amp\"])\n",
    "        df[\"Amp\"] = [np.abs(round(float(i),2)) for i in list(df[\"Amp\"])] \n",
    "        df = (df[df[\"Amp\"]!=0])\n",
    "        df = df.sort_values(by='Amp', ascending=False)\n",
    "        dofs.append(np.array(df[\"DOF\"]))\n",
    "        dof_amps.append(np.array(df[\"Amp\"]))\n",
    "        \n",
    "    \n",
    "    \n",
    "        if any(df[\"DOF\"].iloc[i] in [\"x1\", \"x2\", \"x3\", \"pitch1\", \"pitch2\", \"pitch3\"] and df[\"Amp\"].iloc[i] > 0.1 for i in range(len(df))):\n",
    "            ax.scatter(Hz[j],\"Long-pitch Mode\", c= \"red\")\n",
    "            ax.text(Hz[j] + 0.1,\"Long-pitch Mode\", str(round(Hz[j],3)), fontsize=10)  # Adjust 0.1 to position the text appropriately\n",
    "        elif any(df[\"DOF\"].iloc[j] in [\"y1\", \"y2\", \"y3\",\"roll1\", \"roll2\", \"roll3\"] and df[\"Amp\"].iloc[j] > 0.1 for j in range(len(df))):\n",
    "            ax.scatter(Hz[j],\"Trans-roll Mode\", c = \"blue\")\n",
    "            ax.text(Hz[j] + 0.1,\"Trans-roll Mode\", str(round(Hz[j],3)), fontsize=15)\n",
    "        elif any(df[\"DOF\"].iloc[j] in [\"z1\", \"z2\", \"z3\"] and df[\"Amp\"].iloc[j] > 0.1 for j in range(len(df))):\n",
    "            ax.scatter(Hz[j],\"Bounce Mode\", c = \"black\")    \n",
    "            ax.text(Hz[j] + 0.1,\"Bounce Mode\", str(round(Hz[j],3)), fontsize=15)\n",
    "        elif any(df[\"DOF\"].iloc[j] in [\"yaw1\", \"yaw2\", \"yaw3\"] and df[\"Amp\"].iloc[j] > 0.1 for j in range(len(df))):\n",
    "            ax.scatter(Hz[j],\"Yaw Mode\", c = \"green\")    \n",
    "            ax.text(Hz[j] + 0.1,\"Yaw Mode\", str(round(Hz[j],3)), fontsize=15)\n",
    "#         elif any(df[\"DOF\"].iloc[j] in [\"pitch1\", \"pitch2\", \"pitch3\"] and df[\"Amp\"].iloc[j] > 0.5 for j in range(len(df))):\n",
    "#             ax.scatter(Hz[j],\"Pitch\", c = \"cyan\")\n",
    "#             ax.text(Hz[j] + 0.1,\"Pitch\", str(round(Hz[j],3)), fontsize=15)\n",
    "#         elif any(df[\"DOF\"].iloc[j] in [\"roll1\", \"roll2\", \"roll3\"] and df[\"Amp\"].iloc[j] > 0.5 for j in range(len(df))):\n",
    "#             ax.scatter(Hz[j],\"Roll\", c = \"brown\")\n",
    "#             ax.text(Hz[j] + 0.1,\"Roll\", str(round(Hz[j],3)), fontsize=15)\n",
    "        ax.grid()\n",
    "        ax.set_ylabel(\"Modes\", fontsize = 20)\n",
    "        ax.set_xlabel(\"Freq (Hz)\", fontsize = 20)\n",
    "        ax.tick_params(axis = \"both\", labelsize = 15)\n",
    "        ax.xaxis.set_minor_locator(MultipleLocator(10))\n",
    "        \n",
    "    modes = pd.DataFrame({\"Freq\":Hz, \"DOF\":dofs, \"Amps\":dof_amps})\n",
    "        \n",
    "    return fig, ax\n",
    "         \n",
    "\n",
    "\n",
    "\n",
    "def changes(mutation):\n",
    "    reboot_params()\n",
    "    for name, value in zip(mutation.iloc[:, 0], mutation.iloc[:, 1]):\n",
    "        locals()[name] = value\n",
    "    # print(mutation)\n",
    "    # print(d2)\n",
    "    revised_sus_length = 0.298\n",
    "    tp.kw1= 1396.07\n",
    "    tp.kw2=tp.kw1\n",
    "    tp.kw3=70520.4\n",
    "    tp.l1 = revised_sus_length\n",
    "    tp.l2 = revised_sus_length\n",
    "    tp.l3 = revised_sus_length\n",
    "    #Some constraints \n",
    "    global n3\n",
    "    n3 = 0.0405\n",
    "    n4 = n3\n",
    "    n5 = n3\n",
    "    d = [d2, d3 , d4]\n",
    "    s = [su, si, sl]\n",
    "    if any(i>26.5e-3 for i in d)==True:\n",
    "        print (\"d is not practical\")\n",
    "    if any(i>28.5e-3 for i in s)== True:\n",
    "        print (\"s is not practical\")\n",
    "        \n",
    "    def assign_to_tp(mutation, tp):\n",
    "        for index, row in mutation.iterrows():\n",
    "            string = row['Parameters']\n",
    "            value = row['Values']\n",
    "            # Dynamically set the attribute to the corresponding value\n",
    "            setattr(tp, string, value)\n",
    "\n",
    "# Call the function\n",
    "    assign_to_tp(mutation, tp)\n",
    "    # this seems to have a global imapct and i am not able to print out the original parameters again \n",
    "    # tp.d0 = d0  \n",
    "    # tp.d1 = d1\n",
    "    # tp.d2 = d2\n",
    "    # tp.d3 = d3\n",
    "    # tp.d4 = d4\n",
    "    # tp.n0 = n0 \n",
    "    # tp.n1 = n1 \n",
    "    # tp.n2 = n2\n",
    "    # tp.su = su\n",
    "    # tp.si = si\n",
    "    # tp.sl = sl\n",
    "    # tp.n3 = n3\n",
    "    # tp.n4 = n4\n",
    "    # tp.n5 = n3 \n",
    "    \n",
    "    \n",
    "    \n",
    "    pend = tpmodel.pendSS(*[getattr(tp, coeff) for coeff in tpmodel.stdcoeffs])\n",
    "    (Hz,evecs) = tpmodel.eigenmodes(*[getattr(tp, coeff) for coeff in tpmodel.stdcoeffs])\n",
    "    mode_amp = (Hz,evecs)\n",
    "    \n",
    "    data =     [[\"Masses\", \"m1 / m2 / m3\", [round(tp.m1,2) ,round(tp.m2,2) ,round(tp.m3,2)]],\n",
    "\n",
    "    [\"Roll Moment of Inertia\", \"I1,x / I2,x / I3,x\",[round(i,5) for i in [tp.I1x, tp.I2x , tp.I3x]]],\n",
    "\n",
    "    [\"Pitch Moment of Inertia\", \"I1,y / I2,y / I3,y\", [round(i,5) for i in [tp.I1y, tp.I2y , tp.I3y]]],\n",
    "\n",
    "    [\"Yaw Moment of Inertia\", \"I1,z / I2,z / I3,z\",  [round(i,5) for i in [tp.I1z, tp.I2z , tp.I3z]]],\n",
    "    \n",
    "            [\"Stretched wire lengths\", \"l1 / l2 / l3\", [tp.l1 , tp.l2, tp.l3]], \n",
    "            [\"Upper end wire vertical attachment distance\", \"dtop / d1/ d3 \" , [round(i,3) for i in [tp.dtop, tp.d1 , tp.d3]]],\n",
    "            [\"Bottom end wire vertical attachment distance\", \"d0 / d2 / d4\" , [round(i,3) for i in [tp.d0 , tp.d2, tp.d4]]],\n",
    "            \n",
    "            [\"Longitudinal wire separation\" , \"su / si / sl\", [0, tp.si , tp.sl]],\n",
    "            [\"Upper transverse wire separation\", \"n0 / n2 / n4 \", [tp.n0, tp.n2 , tp.n4]],\n",
    "            [\"Bottom transverse wire separation\", \"n1 / n3 / n5 \", [tp.n1, tp.n3 , tp.n5]],\n",
    "            [\"Vertical Spring stiffness\", \"kbuz / kbiz / kblz\", [tp.kbuz, \"NA\", tp.kblz]],\n",
    "            [\"Wire Lengths\", \"l1 / l2 / l3\", [tp.l1 , tp.l2 , tp.l3]],\n",
    "            [\"Youngs Moduli of the wires\", \"Y1 / Y2 / Y3\", ['%.5E' % Decimal(tp.Y1), '%.5E' % Decimal(tp.Y2), '%.5E' % Decimal(tp.Y3)]]]\n",
    "\n",
    "\n",
    "    params = pd.DataFrame(data, columns = [\"Description\", \"Parameter\",\"Values\"])\n",
    "    # Setting display options\n",
    "    pd.set_option('display.width', 1000)  # Set width to a large value to prevent wrapping\n",
    "    pd.set_option('display.max_colwidth', None)  # Display full contents of each cell without truncation\n",
    "    return params, pend, mode_amp\n",
    "\n",
    "# def new_pend(d0,d1,d2,d3,d4,n0,n1,n2,su,si,sl):\n",
    "#     #Some constraints \n",
    "#     global n3\n",
    "#     n3 = 0.0405\n",
    "#     n4 = n3\n",
    "#     n5 = n3\n",
    "#     d = [d2, d3 , d4]\n",
    "#     s = [su, si, sl]\n",
    "#     if any(i>26.5e-3 for i in d)==True:\n",
    "#         print (\"d is not practical\")\n",
    "#     if any(i>28.5e-3 for i in s)== True:\n",
    "#         print (\"s is not practical\")\n",
    "#     tp.d0 = d0  \n",
    "#     tp.d1 = d1\n",
    "#     tp.d2 = d2\n",
    "#     tp.d3 = d3\n",
    "#     tp.d4 = d4\n",
    "#     tp.n0 = n0 \n",
    "#     tp.n1 = n1 \n",
    "#     tp.n2 = n2\n",
    "#     tp.su = su\n",
    "#     tp.si = si\n",
    "#     tp.sl = sl\n",
    "#     tp.n3 = n3\n",
    "#     tp.n4 = n4\n",
    "#     tp.n5 = n3 \n",
    "    \n",
    "    \n",
    "#     return tpmodel.pendSS(tp.g,tp.m1,tp.m2,tp.m3,tp.I1x,tp.I1y,tp.I1z,tp.I1xy,tp.I1yz,tp.I1zx,tp.I2x,tp.I2y,tp.I2z,tp.I2xy,tp.I2yz,tp.I2zx,tp.I3x,tp.I3y,tp.I3z,tp.I3xy,tp.I3yz,tp.I3zx,tp.dtop,tp.d0,tp.d1,tp.d2,tp.d3,tp.d4,tp.n0,tp.n1,tp.n2,tp.n3,tp.n4,tp.n5,tp.su,tp.si,tp.sl,tp.kbuz,tp.kbiz,tp.kblz,tp.l1,tp.l2,tp.l3,tp.kw1,tp.kw2,tp.kw3,tp.Y1,tp.Y2,tp.Y3,tp.M11,tp.M21,tp.M31)\n",
    "\n",
    "def trimio_tf(pend,newinputs,newoutputs):\n",
    "\t'''A function to trim a state space object to have only the specified subsets of inputs and output.'''\n",
    "\tA=pend.A\n",
    "\tB=pend.B\n",
    "\tC=pend.C\n",
    "\tD=pend.D\n",
    "\toldinputs=pend.input_index\n",
    "\toldoutputs=pend.output_index\n",
    "\toldstates=pend.state_index\n",
    "\tnewinputlist = []\n",
    "\tfor i in range(len(newinputs)):\n",
    "\t\t\tnewinputlist.append(oldinputs.get(newinputs[i],0))\n",
    "\tnewoutputlist = []\n",
    "\tfor i in range(len(newoutputs)):\n",
    "\t\t\tnewoutputlist.append(oldoutputs.get(newoutputs[i],0))\n",
    "\tBB=B[range(len(oldstates))][...,newinputlist]\n",
    "\tCC=C[newoutputlist]\n",
    "\tDD=D[newoutputlist][...,newinputlist]\n",
    "\treturn ct.ss2tf(A,BB,CC,DD)\n"
   ]
  },
  {
   "cell_type": "markdown",
   "id": "53c1d462",
   "metadata": {},
   "source": [
    "### Parameters exported from Mathematica"
   ]
  },
  {
   "cell_type": "raw",
   "id": "237f23f4",
   "metadata": {},
   "source": [
    "NOTE: The \"MatrixElementExport\" part of the following line (i.e., between the underscores) is the Mathematica case name, and will need to be edited to use parameters from realistic cases."
   ]
  },
  {
   "cell_type": "code",
   "execution_count": 17,
   "id": "fd9feea1",
   "metadata": {},
   "outputs": [],
   "source": [
    "import CryoTriple2B2W4B4W4W_MatrixElementExport_triplep as tp"
   ]
  },
  {
   "cell_type": "markdown",
   "id": "7ce81973",
   "metadata": {},
   "source": [
    "### The stiffness matrix for the floats"
   ]
  },
  {
   "cell_type": "code",
   "execution_count": 19,
   "id": "c2715c9b",
   "metadata": {},
   "outputs": [],
   "source": [
    "qm = tpmodel.qm(tp.g,tp.m1,tp.m2,tp.m3,tp.I1x,tp.I1y,tp.I1z,tp.I1xy,tp.I1yz,tp.I1zx,tp.I2x,tp.I2y,tp.I2z,tp.I2xy,tp.I2yz,tp.I2zx,tp.I3x,tp.I3y,tp.I3z,tp.I3xy,tp.I3yz,tp.I3zx,tp.dtop,tp.d0,tp.d1,tp.d2,tp.d3,tp.d4,tp.n0,tp.n1,tp.n2,tp.n3,tp.n4,tp.n5,tp.si,tp.sl,tp.kbuz,tp.kblz,tp.l1,tp.l2,tp.l3,tp.kw1,tp.kw2,tp.kw3,tp.Y1,tp.Y2,tp.Y3,tp.M11,tp.M21,tp.M31)"
   ]
  },
  {
   "cell_type": "code",
   "execution_count": 20,
   "id": "4c0a9485",
   "metadata": {},
   "outputs": [
    {
     "data": {
      "text/plain": [
       "(6, 6)"
      ]
     },
     "execution_count": 20,
     "metadata": {},
     "output_type": "execute_result"
    }
   ],
   "source": [
    "qm.shape"
   ]
  },
  {
   "cell_type": "markdown",
   "id": "22edc6bb",
   "metadata": {},
   "source": [
    "### The coupling matrix between floats and params"
   ]
  },
  {
   "cell_type": "code",
   "execution_count": 22,
   "id": "ed7020cb",
   "metadata": {},
   "outputs": [],
   "source": [
    "cqsm = tpmodel.cqsm(tp.g,tp.m1,tp.m2,tp.m3,tp.I1x,tp.I1y,tp.I1z,tp.I1xy,tp.I1yz,tp.I1zx,tp.I2x,tp.I2y,tp.I2z,tp.I2xy,tp.I2yz,tp.I2zx,tp.I3x,tp.I3y,tp.I3z,tp.I3xy,tp.I3yz,tp.I3zx,tp.dtop,tp.d0,tp.d1,tp.d2,tp.d3,tp.d4,tp.n0,tp.n1,tp.n2,tp.n3,tp.n4,tp.n5,tp.si,tp.sl,tp.kbuz,tp.kblz,tp.l1,tp.l2,tp.l3,tp.kw1,tp.kw2,tp.kw3,tp.Y1,tp.Y2,tp.Y3,tp.M11,tp.M21,tp.M31)\n"
   ]
  },
  {
   "cell_type": "code",
   "execution_count": 23,
   "id": "110321c7",
   "metadata": {
    "scrolled": true
   },
   "outputs": [
    {
     "data": {
      "text/plain": [
       "(6, 6)"
      ]
     },
     "execution_count": 23,
     "metadata": {},
     "output_type": "execute_result"
    }
   ],
   "source": [
    "cqsm.shape"
   ]
  },
  {
   "cell_type": "markdown",
   "id": "2111ead1",
   "metadata": {},
   "source": [
    "### The coupling matrix between floats and vars"
   ]
  },
  {
   "cell_type": "code",
   "execution_count": 25,
   "id": "b3bfab24",
   "metadata": {},
   "outputs": [],
   "source": [
    "cqxm = tpmodel.cqxm(tp.g,tp.m1,tp.m2,tp.m3,tp.I1x,tp.I1y,tp.I1z,tp.I1xy,tp.I1yz,tp.I1zx,tp.I2x,tp.I2y,tp.I2z,tp.I2xy,tp.I2yz,tp.I2zx,tp.I3x,tp.I3y,tp.I3z,tp.I3xy,tp.I3yz,tp.I3zx,tp.dtop,tp.d0,tp.d1,tp.d2,tp.d3,tp.d4,tp.n0,tp.n1,tp.n2,tp.n3,tp.n4,tp.n5,tp.si,tp.sl,tp.kbuz,tp.kblz,tp.l1,tp.l2,tp.l3,tp.kw1,tp.kw2,tp.kw3,tp.Y1,tp.Y2,tp.Y3,tp.M11,tp.M21,tp.M31)"
   ]
  },
  {
   "cell_type": "code",
   "execution_count": 26,
   "id": "74b359cb",
   "metadata": {},
   "outputs": [
    {
     "data": {
      "text/plain": [
       "(6, 18)"
      ]
     },
     "execution_count": 26,
     "metadata": {},
     "output_type": "execute_result"
    }
   ],
   "source": [
    "cqxm.shape"
   ]
  },
  {
   "cell_type": "markdown",
   "id": "0b6a2302",
   "metadata": {},
   "source": [
    "### The stiffness matrix for the params (raw, then effective)"
   ]
  },
  {
   "cell_type": "code",
   "execution_count": 28,
   "id": "5a37b0dd",
   "metadata": {},
   "outputs": [],
   "source": [
    "sm = tpmodel.sm(tp.g,tp.m1,tp.m2,tp.m3,tp.I1x,tp.I1y,tp.I1z,tp.I1xy,tp.I1yz,tp.I1zx,tp.I2x,tp.I2y,tp.I2z,tp.I2xy,tp.I2yz,tp.I2zx,tp.I3x,tp.I3y,tp.I3z,tp.I3xy,tp.I3yz,tp.I3zx,tp.dtop,tp.d0,tp.d1,tp.d2,tp.d3,tp.d4,tp.n0,tp.n1,tp.n2,tp.n3,tp.n4,tp.n5,tp.si,tp.sl,tp.kbuz,tp.kblz,tp.l1,tp.l2,tp.l3,tp.kw1,tp.kw2,tp.kw3,tp.Y1,tp.Y2,tp.Y3,tp.M11,tp.M21,tp.M31)"
   ]
  },
  {
   "cell_type": "code",
   "execution_count": 29,
   "id": "5c187c21",
   "metadata": {},
   "outputs": [
    {
     "data": {
      "text/plain": [
       "(6, 6)"
      ]
     },
     "execution_count": 29,
     "metadata": {},
     "output_type": "execute_result"
    }
   ],
   "source": [
    "sm.shape"
   ]
  },
  {
   "cell_type": "code",
   "execution_count": 30,
   "id": "582b6a56",
   "metadata": {
    "scrolled": true
   },
   "outputs": [],
   "source": [
    "smeff = tpmodel.smeff(tp.g,tp.m1,tp.m2,tp.m3,tp.I1x,tp.I1y,tp.I1z,tp.I1xy,tp.I1yz,tp.I1zx,tp.I2x,tp.I2y,tp.I2z,tp.I2xy,tp.I2yz,tp.I2zx,tp.I3x,tp.I3y,tp.I3z,tp.I3xy,tp.I3yz,tp.I3zx,tp.dtop,tp.d0,tp.d1,tp.d2,tp.d3,tp.d4,tp.n0,tp.n1,tp.n2,tp.n3,tp.n4,tp.n5,tp.si,tp.sl,tp.kbuz,tp.kblz,tp.l1,tp.l2,tp.l3,tp.kw1,tp.kw2,tp.kw3,tp.Y1,tp.Y2,tp.Y3,tp.M11,tp.M21,tp.M31)"
   ]
  },
  {
   "cell_type": "code",
   "execution_count": 31,
   "id": "7454f9e1",
   "metadata": {},
   "outputs": [
    {
     "data": {
      "text/plain": [
       "(6, 6)"
      ]
     },
     "execution_count": 31,
     "metadata": {},
     "output_type": "execute_result"
    }
   ],
   "source": [
    "smeff.shape"
   ]
  },
  {
   "cell_type": "markdown",
   "id": "4adcdd3f",
   "metadata": {},
   "source": [
    "### The coupling matrix between vars and params (raw then effective)"
   ]
  },
  {
   "cell_type": "code",
   "execution_count": 33,
   "id": "dcba9462",
   "metadata": {},
   "outputs": [],
   "source": [
    "cxsm = tpmodel.cxsm(tp.g,tp.m1,tp.m2,tp.m3,tp.I1x,tp.I1y,tp.I1z,tp.I1xy,tp.I1yz,tp.I1zx,tp.I2x,tp.I2y,tp.I2z,tp.I2xy,tp.I2yz,tp.I2zx,tp.I3x,tp.I3y,tp.I3z,tp.I3xy,tp.I3yz,tp.I3zx,tp.dtop,tp.d0,tp.d1,tp.d2,tp.d3,tp.d4,tp.n0,tp.n1,tp.n2,tp.n3,tp.n4,tp.n5,tp.si,tp.sl,tp.kbuz,tp.kblz,tp.l1,tp.l2,tp.l3,tp.kw1,tp.kw2,tp.kw3,tp.Y1,tp.Y2,tp.Y3,tp.M11,tp.M21,tp.M31)"
   ]
  },
  {
   "cell_type": "code",
   "execution_count": 34,
   "id": "ec222b22",
   "metadata": {},
   "outputs": [
    {
     "data": {
      "text/plain": [
       "(18, 6)"
      ]
     },
     "execution_count": 34,
     "metadata": {},
     "output_type": "execute_result"
    }
   ],
   "source": [
    "cxsm.shape"
   ]
  },
  {
   "cell_type": "code",
   "execution_count": 35,
   "id": "0fc0bbea",
   "metadata": {},
   "outputs": [],
   "source": [
    "cxsmeff = tpmodel.cxsmeff(tp.g,tp.m1,tp.m2,tp.m3,tp.I1x,tp.I1y,tp.I1z,tp.I1xy,tp.I1yz,tp.I1zx,tp.I2x,tp.I2y,tp.I2z,tp.I2xy,tp.I2yz,tp.I2zx,tp.I3x,tp.I3y,tp.I3z,tp.I3xy,tp.I3yz,tp.I3zx,tp.dtop,tp.d0,tp.d1,tp.d2,tp.d3,tp.d4,tp.n0,tp.n1,tp.n2,tp.n3,tp.n4,tp.n5,tp.si,tp.sl,tp.kbuz,tp.kblz,tp.l1,tp.l2,tp.l3,tp.kw1,tp.kw2,tp.kw3,tp.Y1,tp.Y2,tp.Y3,tp.M11,tp.M21,tp.M31)"
   ]
  },
  {
   "cell_type": "code",
   "execution_count": 36,
   "id": "00bf0a9b",
   "metadata": {},
   "outputs": [
    {
     "data": {
      "text/plain": [
       "(18, 6)"
      ]
     },
     "execution_count": 36,
     "metadata": {},
     "output_type": "execute_result"
    }
   ],
   "source": [
    "cxsmeff.shape"
   ]
  },
  {
   "cell_type": "markdown",
   "id": "0ea4d177",
   "metadata": {},
   "source": [
    "### The stiffness matrix for vars (raw, then effective)"
   ]
  },
  {
   "cell_type": "code",
   "execution_count": 38,
   "id": "e30589b5",
   "metadata": {},
   "outputs": [],
   "source": [
    "xm = tpmodel.xm(tp.g,tp.m1,tp.m2,tp.m3,tp.I1x,tp.I1y,tp.I1z,tp.I1xy,tp.I1yz,tp.I1zx,tp.I2x,tp.I2y,tp.I2z,tp.I2xy,tp.I2yz,tp.I2zx,tp.I3x,tp.I3y,tp.I3z,tp.I3xy,tp.I3yz,tp.I3zx,tp.dtop,tp.d0,tp.d1,tp.d2,tp.d3,tp.d4,tp.n0,tp.n1,tp.n2,tp.n3,tp.n4,tp.n5,tp.si,tp.sl,tp.kbuz,tp.kblz,tp.l1,tp.l2,tp.l3,tp.kw1,tp.kw2,tp.kw3,tp.Y1,tp.Y2,tp.Y3,tp.M11,tp.M21,tp.M31)"
   ]
  },
  {
   "cell_type": "code",
   "execution_count": 39,
   "id": "464e5106",
   "metadata": {},
   "outputs": [
    {
     "data": {
      "text/plain": [
       "(18, 18)"
      ]
     },
     "execution_count": 39,
     "metadata": {},
     "output_type": "execute_result"
    }
   ],
   "source": [
    "xm.shape"
   ]
  },
  {
   "cell_type": "code",
   "execution_count": 40,
   "id": "ac20fb3d",
   "metadata": {},
   "outputs": [],
   "source": [
    "xmeff=tpmodel.xmeff(tp.g,tp.m1,tp.m2,tp.m3,tp.I1x,tp.I1y,tp.I1z,tp.I1xy,tp.I1yz,tp.I1zx,tp.I2x,tp.I2y,tp.I2z,tp.I2xy,tp.I2yz,tp.I2zx,tp.I3x,tp.I3y,tp.I3z,tp.I3xy,tp.I3yz,tp.I3zx,tp.dtop,tp.d0,tp.d1,tp.d2,tp.d3,tp.d4,tp.n0,tp.n1,tp.n2,tp.n3,tp.n4,tp.n5,tp.si,tp.sl,tp.kbuz,tp.kblz,tp.l1,tp.l2,tp.l3,tp.kw1,tp.kw2,tp.kw3,tp.Y1,tp.Y2,tp.Y3,tp.M11,tp.M21,tp.M31)"
   ]
  },
  {
   "cell_type": "code",
   "execution_count": 41,
   "id": "f6331df9",
   "metadata": {},
   "outputs": [
    {
     "data": {
      "text/plain": [
       "(18, 18)"
      ]
     },
     "execution_count": 41,
     "metadata": {},
     "output_type": "execute_result"
    }
   ],
   "source": [
    "xmeff.shape"
   ]
  },
  {
   "cell_type": "markdown",
   "id": "f3905372",
   "metadata": {},
   "source": [
    "### The mass matrix"
   ]
  },
  {
   "cell_type": "code",
   "execution_count": 43,
   "id": "e0d07480",
   "metadata": {},
   "outputs": [],
   "source": [
    "km = tpmodel.km(tp.g,tp.m1,tp.m2,tp.m3,tp.I1x,tp.I1y,tp.I1z,tp.I1xy,tp.I1yz,tp.I1zx,tp.I2x,tp.I2y,tp.I2z,tp.I2xy,tp.I2yz,tp.I2zx,tp.I3x,tp.I3y,tp.I3z,tp.I3xy,tp.I3yz,tp.I3zx,tp.dtop,tp.d0,tp.d1,tp.d2,tp.d3,tp.d4,tp.n0,tp.n1,tp.n2,tp.n3,tp.n4,tp.n5,tp.si,tp.sl,tp.kbuz,tp.kblz,tp.l1,tp.l2,tp.l3,tp.kw1,tp.kw2,tp.kw3,tp.Y1,tp.Y2,tp.Y3,tp.M11,tp.M21,tp.M31)"
   ]
  },
  {
   "cell_type": "code",
   "execution_count": 44,
   "id": "9a787a80",
   "metadata": {},
   "outputs": [
    {
     "data": {
      "text/plain": [
       "(18, 18)"
      ]
     },
     "execution_count": 44,
     "metadata": {},
     "output_type": "execute_result"
    }
   ],
   "source": [
    "km.shape"
   ]
  },
  {
   "cell_type": "markdown",
   "id": "2d6f2410",
   "metadata": {},
   "source": [
    "# Generate state space"
   ]
  },
  {
   "cell_type": "markdown",
   "id": "48098f60",
   "metadata": {},
   "source": [
    "## Generate full A, B, C, D matrices"
   ]
  },
  {
   "cell_type": "code",
   "execution_count": 47,
   "id": "94601bee",
   "metadata": {},
   "outputs": [],
   "source": [
    "A = tpmodel.A(tp.g,tp.m1,tp.m2,tp.m3,tp.I1x,tp.I1y,tp.I1z,tp.I1xy,tp.I1yz,tp.I1zx,tp.I2x,tp.I2y,tp.I2z,tp.I2xy,tp.I2yz,tp.I2zx,tp.I3x,tp.I3y,tp.I3z,tp.I3xy,tp.I3yz,tp.I3zx,tp.dtop,tp.d0,tp.d1,tp.d2,tp.d3,tp.d4,tp.n0,tp.n1,tp.n2,tp.n3,tp.n4,tp.n5,tp.si,tp.sl,tp.kbuz,tp.kblz,tp.l1,tp.l2,tp.l3,tp.kw1,tp.kw2,tp.kw3,tp.Y1,tp.Y2,tp.Y3,tp.M11,tp.M21,tp.M31)"
   ]
  },
  {
   "cell_type": "code",
   "execution_count": 48,
   "id": "b64e59cb",
   "metadata": {},
   "outputs": [
    {
     "data": {
      "text/plain": [
       "(36, 36)"
      ]
     },
     "execution_count": 48,
     "metadata": {},
     "output_type": "execute_result"
    }
   ],
   "source": [
    "A.shape"
   ]
  },
  {
   "cell_type": "code",
   "execution_count": 49,
   "id": "32eb6cd1",
   "metadata": {},
   "outputs": [],
   "source": [
    "B = tpmodel.B(tp.g,tp.m1,tp.m2,tp.m3,tp.I1x,tp.I1y,tp.I1z,tp.I1xy,tp.I1yz,tp.I1zx,tp.I2x,tp.I2y,tp.I2z,tp.I2xy,tp.I2yz,tp.I2zx,tp.I3x,tp.I3y,tp.I3z,tp.I3xy,tp.I3yz,tp.I3zx,tp.dtop,tp.d0,tp.d1,tp.d2,tp.d3,tp.d4,tp.n0,tp.n1,tp.n2,tp.n3,tp.n4,tp.n5,tp.si,tp.sl,tp.kbuz,tp.kblz,tp.l1,tp.l2,tp.l3,tp.kw1,tp.kw2,tp.kw3,tp.Y1,tp.Y2,tp.Y3,tp.M11,tp.M21,tp.M31)"
   ]
  },
  {
   "cell_type": "code",
   "execution_count": 50,
   "id": "fe7d598d",
   "metadata": {},
   "outputs": [
    {
     "data": {
      "text/plain": [
       "(36, 24)"
      ]
     },
     "execution_count": 50,
     "metadata": {},
     "output_type": "execute_result"
    }
   ],
   "source": [
    "B.shape"
   ]
  },
  {
   "cell_type": "code",
   "execution_count": 51,
   "id": "0a809d91",
   "metadata": {},
   "outputs": [],
   "source": [
    "C = tpmodel.C(tp.g,tp.m1,tp.m2,tp.m3,tp.I1x,tp.I1y,tp.I1z,tp.I1xy,tp.I1yz,tp.I1zx,tp.I2x,tp.I2y,tp.I2z,tp.I2xy,tp.I2yz,tp.I2zx,tp.I3x,tp.I3y,tp.I3z,tp.I3xy,tp.I3yz,tp.I3zx,tp.dtop,tp.d0,tp.d1,tp.d2,tp.d3,tp.d4,tp.n0,tp.n1,tp.n2,tp.n3,tp.n4,tp.n5,tp.si,tp.sl,tp.kbuz,tp.kblz,tp.l1,tp.l2,tp.l3,tp.kw1,tp.kw2,tp.kw3,tp.Y1,tp.Y2,tp.Y3,tp.M11,tp.M21,tp.M31)"
   ]
  },
  {
   "cell_type": "code",
   "execution_count": 52,
   "id": "032afbb8",
   "metadata": {},
   "outputs": [
    {
     "data": {
      "text/plain": [
       "(24, 36)"
      ]
     },
     "execution_count": 52,
     "metadata": {},
     "output_type": "execute_result"
    }
   ],
   "source": [
    "C.shape"
   ]
  },
  {
   "cell_type": "code",
   "execution_count": 53,
   "id": "e8aa54e2",
   "metadata": {},
   "outputs": [],
   "source": [
    "D = tpmodel.D(tp.g,tp.m1,tp.m2,tp.m3,tp.I1x,tp.I1y,tp.I1z,tp.I1xy,tp.I1yz,tp.I1zx,tp.I2x,tp.I2y,tp.I2z,tp.I2xy,tp.I2yz,tp.I2zx,tp.I3x,tp.I3y,tp.I3z,tp.I3xy,tp.I3yz,tp.I3zx,tp.dtop,tp.d0,tp.d1,tp.d2,tp.d3,tp.d4,tp.n0,tp.n1,tp.n2,tp.n3,tp.n4,tp.n5,tp.si,tp.sl,tp.kbuz,tp.kblz,tp.l1,tp.l2,tp.l3,tp.kw1,tp.kw2,tp.kw3,tp.Y1,tp.Y2,tp.Y3,tp.M11,tp.M21,tp.M31)"
   ]
  },
  {
   "cell_type": "code",
   "execution_count": 54,
   "id": "722b6d88",
   "metadata": {},
   "outputs": [
    {
     "data": {
      "text/plain": [
       "(24, 24)"
      ]
     },
     "execution_count": 54,
     "metadata": {},
     "output_type": "execute_result"
    }
   ],
   "source": [
    "D.shape"
   ]
  },
  {
   "cell_type": "markdown",
   "id": "ec51e1b1",
   "metadata": {},
   "source": [
    "## Generate full state space object"
   ]
  },
  {
   "cell_type": "code",
   "execution_count": 56,
   "id": "99ba5402",
   "metadata": {},
   "outputs": [],
   "source": [
    "pend = tpmodel.pendSS(tp.g,tp.m1,tp.m2,tp.m3,tp.I1x,tp.I1y,tp.I1z,tp.I1xy,tp.I1yz,tp.I1zx,tp.I2x,tp.I2y,tp.I2z,tp.I2xy,tp.I2yz,tp.I2zx,tp.I3x,tp.I3y,tp.I3z,tp.I3xy,tp.I3yz,tp.I3zx,tp.dtop,tp.d0,tp.d1,tp.d2,tp.d3,tp.d4,tp.n0,tp.n1,tp.n2,tp.n3,tp.n4,tp.n5,tp.si,tp.sl,tp.kbuz,tp.kblz,tp.l1,tp.l2,tp.l3,tp.kw1,tp.kw2,tp.kw3,tp.Y1,tp.Y2,tp.Y3,tp.M11,tp.M21,tp.M31)"
   ]
  },
  {
   "cell_type": "code",
   "execution_count": 57,
   "id": "4ec39488",
   "metadata": {},
   "outputs": [],
   "source": [
    "## Try a Bode plot of x00 (support) displacement input to x3 (optic) displacement"
   ]
  },
  {
   "cell_type": "code",
   "execution_count": 58,
   "id": "7e2171d3",
   "metadata": {
    "scrolled": true
   },
   "outputs": [],
   "source": [
    "pend_x00_x3=tpmodel.trimio(pend,[\"x00\"],[\"x3\"])"
   ]
  },
  {
   "cell_type": "code",
   "execution_count": 59,
   "id": "4baec677",
   "metadata": {},
   "outputs": [
    {
     "ename": "TypeError",
     "evalue": "iter() returned non-iterator of type 'numpy.ndarray'",
     "output_type": "error",
     "traceback": [
      "\u001b[0;31m---------------------------------------------------------------------------\u001b[0m",
      "\u001b[0;31mTypeError\u001b[0m                                 Traceback (most recent call last)",
      "Cell \u001b[0;32mIn[59], line 1\u001b[0m\n\u001b[0;32m----> 1\u001b[0m magd,phased,omegad\u001b[38;5;241m=\u001b[39mct\u001b[38;5;241m.\u001b[39mbode_plot(pend_x00_x3,Hz\u001b[38;5;241m=\u001b[39m\u001b[38;5;28;01mTrue\u001b[39;00m,omega_limits\u001b[38;5;241m=\u001b[39m[\u001b[38;5;241m1\u001b[39m\u001b[38;5;241m*\u001b[39mpi\u001b[38;5;241m*\u001b[39m\u001b[38;5;241m0.1\u001b[39m,\u001b[38;5;241m2\u001b[39m\u001b[38;5;241m*\u001b[39mpi\u001b[38;5;241m*\u001b[39m\u001b[38;5;241m100\u001b[39m])\n",
      "\u001b[0;31mTypeError\u001b[0m: iter() returned non-iterator of type 'numpy.ndarray'"
     ]
    },
    {
     "data": {
      "image/png": "[encoded data removed]",
      "text/plain": [
       "<Figure size 640x480 with 2 Axes>"
      ]
     },
     "metadata": {},
     "output_type": "display_data"
    }
   ],
   "source": [
    "magd,phased,omegad=ct.bode_plot(pend_x00_x3,Hz=True,omega_limits=[1*pi*0.1,2*pi*100])"
   ]
  },
  {
   "cell_type": "markdown",
   "id": "0875569a",
   "metadata": {},
   "source": [
    "## Try a Bode plot of x1 (top mass) force input to x3 (optic) displacement"
   ]
  },
  {
   "cell_type": "code",
   "execution_count": null,
   "id": "bc648a3c",
   "metadata": {},
   "outputs": [],
   "source": [
    "pend_x1_x3=tpmodel.trimio(pend,[\"f_x1\"],[\"x3\"])"
   ]
  },
  {
   "cell_type": "code",
   "execution_count": null,
   "id": "0e8b8193",
   "metadata": {},
   "outputs": [],
   "source": [
    "magf,phasef,omegaf=ct.bode_plot(pend_x1_x3,Hz=True,omega_limits=[0.1*pi*0.1,2*pi*100])"
   ]
  },
  {
   "cell_type": "markdown",
   "id": "0bf69f5a",
   "metadata": {},
   "source": [
    "# Eigenmode stuff"
   ]
  },
  {
   "cell_type": "code",
   "execution_count": null,
   "id": "b4681297",
   "metadata": {},
   "outputs": [],
   "source": [
    "(Hz,evecs) = tpmodel.eigenmodes(tp.g,tp.m1,tp.m2,tp.m3,tp.I1x,tp.I1y,tp.I1z,tp.I1xy,tp.I1yz,tp.I1zx,tp.I2x,tp.I2y,tp.I2z,tp.I2xy,tp.I2yz,tp.I2zx,tp.I3x,tp.I3y,tp.I3z,tp.I3xy,tp.I3yz,tp.I3zx,tp.dtop,tp.d0,tp.d1,tp.d2,tp.d3,tp.d4,tp.n0,tp.n1,tp.n2,tp.n3,tp.n4,tp.n5,tp.si,tp.sl,tp.kbuz,tp.kblz,tp.l1,tp.l2,tp.l3,tp.kw1,tp.kw2,tp.kw3,tp.Y1,tp.Y2,tp.Y3,tp.M11,tp.M21,tp.M31)"
   ]
  },
  {
   "cell_type": "code",
   "execution_count": null,
   "id": "2263a715",
   "metadata": {},
   "outputs": [],
   "source": [
    "Hz"
   ]
  },
  {
   "cell_type": "markdown",
   "id": "9a8245ca",
   "metadata": {},
   "source": [
    "## Examine the lowest frequency mode (x and pitch)"
   ]
  },
  {
   "cell_type": "code",
   "execution_count": null,
   "id": "b91d65a5",
   "metadata": {},
   "outputs": [],
   "source": [
    "list(zip(tpmodel.allvars,list(evecs[17])))"
   ]
  },
  {
   "cell_type": "code",
   "execution_count": 168,
   "id": "3294c3bc",
   "metadata": {},
   "outputs": [
    {
     "data": {
      "text/html": [
       "<div>\n",
       "<style scoped>\n",
       "    .dataframe tbody tr th:only-of-type {\n",
       "        vertical-align: middle;\n",
       "    }\n",
       "\n",
       "    .dataframe tbody tr th {\n",
       "        vertical-align: top;\n",
       "    }\n",
       "\n",
       "    .dataframe thead th {\n",
       "        text-align: right;\n",
       "    }\n",
       "</style>\n",
       "<table border=\"1\" class=\"dataframe\">\n",
       "  <thead>\n",
       "    <tr style=\"text-align: right;\">\n",
       "      <th></th>\n",
       "      <th>Freq</th>\n",
       "      <th>DOF</th>\n",
       "      <th>Amps</th>\n",
       "      <th>Mode_vis</th>\n",
       "    </tr>\n",
       "  </thead>\n",
       "  <tbody>\n",
       "    <tr>\n",
       "      <th>0</th>\n",
       "      <td>257.147331</td>\n",
       "      <td>[roll2, roll3]</td>\n",
       "      <td>[0.71, -0.71]</td>\n",
       "      <td>NaN</td>\n",
       "    </tr>\n",
       "    <tr>\n",
       "      <th>1</th>\n",
       "      <td>212.494410</td>\n",
       "      <td>[z2, z3]</td>\n",
       "      <td>[-0.71, 0.71]</td>\n",
       "      <td>NaN</td>\n",
       "    </tr>\n",
       "    <tr>\n",
       "      <th>2</th>\n",
       "      <td>36.149688</td>\n",
       "      <td>[pitch2, pitch3]</td>\n",
       "      <td>[-0.71, 0.71]</td>\n",
       "      <td>NaN</td>\n",
       "    </tr>\n",
       "    <tr>\n",
       "      <th>3</th>\n",
       "      <td>7.255479</td>\n",
       "      <td>[roll1, roll2, roll3]</td>\n",
       "      <td>[-0.87, 0.35, 0.35]</td>\n",
       "      <td>-2.485714</td>\n",
       "    </tr>\n",
       "    <tr>\n",
       "      <th>4</th>\n",
       "      <td>5.299131</td>\n",
       "      <td>[z1, z2, z3]</td>\n",
       "      <td>[0.81, -0.42, -0.42]</td>\n",
       "      <td>-1.928571</td>\n",
       "    </tr>\n",
       "    <tr>\n",
       "      <th>5</th>\n",
       "      <td>3.050633</td>\n",
       "      <td>[yaw1, yaw2, yaw3]</td>\n",
       "      <td>[-0.72, 0.67, -0.17]</td>\n",
       "      <td>4.235294</td>\n",
       "    </tr>\n",
       "    <tr>\n",
       "      <th>6</th>\n",
       "      <td>2.939016</td>\n",
       "      <td>[pitch1, pitch2, pitch3]</td>\n",
       "      <td>[-0.98, 0.13, 0.13]</td>\n",
       "      <td>-7.538462</td>\n",
       "    </tr>\n",
       "    <tr>\n",
       "      <th>7</th>\n",
       "      <td>2.539419</td>\n",
       "      <td>[pitch2, pitch3, pitch1, x2]</td>\n",
       "      <td>[-0.69, -0.69, -0.19, 0.01]</td>\n",
       "      <td>0.275362</td>\n",
       "    </tr>\n",
       "    <tr>\n",
       "      <th>8</th>\n",
       "      <td>2.477588</td>\n",
       "      <td>[roll2, roll3, roll1, y2]</td>\n",
       "      <td>[-0.6, -0.6, -0.53, -0.01]</td>\n",
       "      <td>0.883333</td>\n",
       "    </tr>\n",
       "    <tr>\n",
       "      <th>9</th>\n",
       "      <td>2.225696</td>\n",
       "      <td>[roll2, roll3, roll1, y1, y2, y3]</td>\n",
       "      <td>[0.6, 0.6, 0.51, 0.12, -0.09, 0.02]</td>\n",
       "      <td>0.850000</td>\n",
       "    </tr>\n",
       "    <tr>\n",
       "      <th>10</th>\n",
       "      <td>2.218434</td>\n",
       "      <td>[pitch2, pitch3, x1, x2, pitch1, x3]</td>\n",
       "      <td>[-0.7, -0.7, 0.1, -0.07, -0.06, 0.01]</td>\n",
       "      <td>0.085714</td>\n",
       "    </tr>\n",
       "    <tr>\n",
       "      <th>11</th>\n",
       "      <td>1.963910</td>\n",
       "      <td>[yaw2, yaw1, yaw3]</td>\n",
       "      <td>[-0.61, -0.56, 0.56]</td>\n",
       "      <td>-1.000000</td>\n",
       "    </tr>\n",
       "    <tr>\n",
       "      <th>12</th>\n",
       "      <td>1.393489</td>\n",
       "      <td>[roll2, roll3, roll1, y2, y3, y1]</td>\n",
       "      <td>[0.61, 0.61, 0.42, -0.18, 0.15, -0.14]</td>\n",
       "      <td>0.688525</td>\n",
       "    </tr>\n",
       "    <tr>\n",
       "      <th>13</th>\n",
       "      <td>1.356287</td>\n",
       "      <td>[pitch2, pitch3, pitch1, x2, x1, x3]</td>\n",
       "      <td>[-0.69, -0.69, 0.17, -0.1, -0.08, 0.08]</td>\n",
       "      <td>-0.246377</td>\n",
       "    </tr>\n",
       "    <tr>\n",
       "      <th>14</th>\n",
       "      <td>0.844999</td>\n",
       "      <td>[yaw3, yaw2, yaw1]</td>\n",
       "      <td>[-0.83, -0.51, -0.23]</td>\n",
       "      <td>0.277108</td>\n",
       "    </tr>\n",
       "    <tr>\n",
       "      <th>15</th>\n",
       "      <td>0.788686</td>\n",
       "      <td>[z2, z3, z1]</td>\n",
       "      <td>[0.59, 0.59, 0.55]</td>\n",
       "      <td>0.932203</td>\n",
       "    </tr>\n",
       "    <tr>\n",
       "      <th>16</th>\n",
       "      <td>0.586548</td>\n",
       "      <td>[roll2, roll3, y3, roll1, y2, y1]</td>\n",
       "      <td>[0.5, 0.5, 0.46, 0.45, 0.27, 0.12]</td>\n",
       "      <td>0.900000</td>\n",
       "    </tr>\n",
       "    <tr>\n",
       "      <th>17</th>\n",
       "      <td>0.583931</td>\n",
       "      <td>[pitch2, pitch3, pitch1, x3, x2, x1]</td>\n",
       "      <td>[0.56, 0.56, 0.4, -0.4, -0.23, -0.1]</td>\n",
       "      <td>0.714286</td>\n",
       "    </tr>\n",
       "  </tbody>\n",
       "</table>\n",
       "</div>"
      ],
      "text/plain": [
       "          Freq                                   DOF  \\\n",
       "0   257.147331                        [roll2, roll3]   \n",
       "1   212.494410                              [z2, z3]   \n",
       "2    36.149688                      [pitch2, pitch3]   \n",
       "3     7.255479                 [roll1, roll2, roll3]   \n",
       "4     5.299131                          [z1, z2, z3]   \n",
       "5     3.050633                    [yaw1, yaw2, yaw3]   \n",
       "6     2.939016              [pitch1, pitch2, pitch3]   \n",
       "7     2.539419          [pitch2, pitch3, pitch1, x2]   \n",
       "8     2.477588             [roll2, roll3, roll1, y2]   \n",
       "9     2.225696     [roll2, roll3, roll1, y1, y2, y3]   \n",
       "10    2.218434  [pitch2, pitch3, x1, x2, pitch1, x3]   \n",
       "11    1.963910                    [yaw2, yaw1, yaw3]   \n",
       "12    1.393489     [roll2, roll3, roll1, y2, y3, y1]   \n",
       "13    1.356287  [pitch2, pitch3, pitch1, x2, x1, x3]   \n",
       "14    0.844999                    [yaw3, yaw2, yaw1]   \n",
       "15    0.788686                          [z2, z3, z1]   \n",
       "16    0.586548     [roll2, roll3, y3, roll1, y2, y1]   \n",
       "17    0.583931  [pitch2, pitch3, pitch1, x3, x2, x1]   \n",
       "\n",
       "                                       Amps  Mode_vis  \n",
       "0                             [0.71, -0.71]       NaN  \n",
       "1                             [-0.71, 0.71]       NaN  \n",
       "2                             [-0.71, 0.71]       NaN  \n",
       "3                       [-0.87, 0.35, 0.35] -2.485714  \n",
       "4                      [0.81, -0.42, -0.42] -1.928571  \n",
       "5                      [-0.72, 0.67, -0.17]  4.235294  \n",
       "6                       [-0.98, 0.13, 0.13] -7.538462  \n",
       "7               [-0.69, -0.69, -0.19, 0.01]  0.275362  \n",
       "8                [-0.6, -0.6, -0.53, -0.01]  0.883333  \n",
       "9       [0.6, 0.6, 0.51, 0.12, -0.09, 0.02]  0.850000  \n",
       "10    [-0.7, -0.7, 0.1, -0.07, -0.06, 0.01]  0.085714  \n",
       "11                     [-0.61, -0.56, 0.56] -1.000000  \n",
       "12   [0.61, 0.61, 0.42, -0.18, 0.15, -0.14]  0.688525  \n",
       "13  [-0.69, -0.69, 0.17, -0.1, -0.08, 0.08] -0.246377  \n",
       "14                    [-0.83, -0.51, -0.23]  0.277108  \n",
       "15                       [0.59, 0.59, 0.55]  0.932203  \n",
       "16       [0.5, 0.5, 0.46, 0.45, 0.27, 0.12]  0.900000  \n",
       "17     [0.56, 0.56, 0.4, -0.4, -0.23, -0.1]  0.714286  "
      ]
     },
     "execution_count": 168,
     "metadata": {},
     "output_type": "execute_result"
    }
   ],
   "source": [
    "modes= tpmodel.eigenmodes(*[getattr(tp, coeff) for coeff in tpmodel.stdcoeffs])\n",
    "print_modes(modes)\n",
    "\n"
   ]
  },
  {
   "cell_type": "code",
   "execution_count": 189,
   "id": "f8de58a7-d058-4441-9de8-43f3184aa055",
   "metadata": {},
   "outputs": [
    {
     "name": "stdout",
     "output_type": "stream",
     "text": [
      "                                     Description           Parameter                                       Values\n",
      "0                                         Masses        m1 / m2 / m3                              [1.1, 1.0, 1.0]\n",
      "1                         Roll Moment of Inertia  I1,x / I2,x / I3,x                  [0.00108, 0.00117, 0.00117]\n",
      "2                        Pitch Moment of Inertia  I1,y / I2,y / I3,y                   [0.0009, 0.00086, 0.00086]\n",
      "3                          Yaw Moment of Inertia  I1,z / I2,z / I3,z                  [0.00108, 0.00086, 0.00086]\n",
      "4                         Stretched wire lengths        l1 / l2 / l3                           [0.25, 0.25, 0.25]\n",
      "5    Upper end wire vertical attachment distance      dtop / d1/ d3                           [0.0, 0.005, 0.003]\n",
      "6   Bottom end wire vertical attachment distance        d0 / d2 / d4                        [0.005, 0.003, 0.003]\n",
      "7                   Longitudinal wire separation        su / si / sl                            [0, 0.005, 0.005]\n",
      "8               Upper transverse wire separation       n0 / n2 / n4                      [0.0415, 0.0415, 0.0415]\n",
      "9              Bottom transverse wire separation       n1 / n3 / n5                      [0.0415, 0.0415, 0.0415]\n",
      "10                     Vertical Spring stiffness  kbuz / kbiz / kblz  [40.63914522674432, NA, 211.73340590414952]\n",
      "11                                  Wire Lengths        l1 / l2 / l3                           [0.25, 0.25, 0.25]\n",
      "12                    Youngs Moduli of the wires        Y1 / Y2 / Y3      [2.12000E+11, 2.12000E+11, 1.67326E+11]\n"
     ]
    },
    {
     "data": {
      "text/html": [
       "<div>\n",
       "<style scoped>\n",
       "    .dataframe tbody tr th:only-of-type {\n",
       "        vertical-align: middle;\n",
       "    }\n",
       "\n",
       "    .dataframe tbody tr th {\n",
       "        vertical-align: top;\n",
       "    }\n",
       "\n",
       "    .dataframe thead th {\n",
       "        text-align: right;\n",
       "    }\n",
       "</style>\n",
       "<table border=\"1\" class=\"dataframe\">\n",
       "  <thead>\n",
       "    <tr style=\"text-align: right;\">\n",
       "      <th></th>\n",
       "      <th>Freq</th>\n",
       "      <th>DOF</th>\n",
       "      <th>Amps</th>\n",
       "      <th>Mode_vis</th>\n",
       "    </tr>\n",
       "  </thead>\n",
       "  <tbody>\n",
       "    <tr>\n",
       "      <th>0</th>\n",
       "      <td>257.147333</td>\n",
       "      <td>[roll2, roll3]</td>\n",
       "      <td>[0.71, -0.71]</td>\n",
       "      <td>NaN</td>\n",
       "    </tr>\n",
       "    <tr>\n",
       "      <th>1</th>\n",
       "      <td>212.494410</td>\n",
       "      <td>[z2, z3]</td>\n",
       "      <td>[0.71, -0.71]</td>\n",
       "      <td>NaN</td>\n",
       "    </tr>\n",
       "    <tr>\n",
       "      <th>2</th>\n",
       "      <td>36.149706</td>\n",
       "      <td>[pitch2, pitch3]</td>\n",
       "      <td>[-0.71, 0.71]</td>\n",
       "      <td>NaN</td>\n",
       "    </tr>\n",
       "    <tr>\n",
       "      <th>3</th>\n",
       "      <td>7.258412</td>\n",
       "      <td>[roll1, roll2, roll3]</td>\n",
       "      <td>[-0.87, 0.35, 0.35]</td>\n",
       "      <td>-2.485714</td>\n",
       "    </tr>\n",
       "    <tr>\n",
       "      <th>4</th>\n",
       "      <td>5.299131</td>\n",
       "      <td>[z1, z2, z3]</td>\n",
       "      <td>[-0.81, 0.42, 0.42]</td>\n",
       "      <td>-1.928571</td>\n",
       "    </tr>\n",
       "    <tr>\n",
       "      <th>5</th>\n",
       "      <td>3.334969</td>\n",
       "      <td>[yaw1, yaw2, yaw3]</td>\n",
       "      <td>[0.72, -0.67, 0.17]</td>\n",
       "      <td>4.235294</td>\n",
       "    </tr>\n",
       "    <tr>\n",
       "      <th>6</th>\n",
       "      <td>2.947610</td>\n",
       "      <td>[pitch1, pitch2, pitch3]</td>\n",
       "      <td>[-0.98, 0.14, 0.14]</td>\n",
       "      <td>-7.000000</td>\n",
       "    </tr>\n",
       "    <tr>\n",
       "      <th>7</th>\n",
       "      <td>2.605204</td>\n",
       "      <td>[pitch2, pitch3, pitch1, x1, x2, x3]</td>\n",
       "      <td>[-0.69, -0.69, -0.24, -0.01, 0.01, -0.01]</td>\n",
       "      <td>0.347826</td>\n",
       "    </tr>\n",
       "    <tr>\n",
       "      <th>8</th>\n",
       "      <td>2.532277</td>\n",
       "      <td>[roll2, roll3, roll1, y1, y2, y3]</td>\n",
       "      <td>[0.6, 0.6, 0.54, -0.02, 0.02, -0.01]</td>\n",
       "      <td>0.900000</td>\n",
       "    </tr>\n",
       "    <tr>\n",
       "      <th>9</th>\n",
       "      <td>2.401853</td>\n",
       "      <td>[roll2, roll3, roll1, y1, y2]</td>\n",
       "      <td>[0.6, 0.6, 0.53, 0.04, -0.03]</td>\n",
       "      <td>0.883333</td>\n",
       "    </tr>\n",
       "    <tr>\n",
       "      <th>10</th>\n",
       "      <td>2.398922</td>\n",
       "      <td>[pitch2, pitch3, pitch1, x1, x2]</td>\n",
       "      <td>[0.7, 0.7, 0.11, -0.05, 0.03]</td>\n",
       "      <td>0.157143</td>\n",
       "    </tr>\n",
       "    <tr>\n",
       "      <th>11</th>\n",
       "      <td>2.157312</td>\n",
       "      <td>[yaw2, yaw3, yaw1]</td>\n",
       "      <td>[-0.6, 0.57, -0.56]</td>\n",
       "      <td>-0.982456</td>\n",
       "    </tr>\n",
       "    <tr>\n",
       "      <th>12</th>\n",
       "      <td>1.523048</td>\n",
       "      <td>[roll2, roll3, roll1, y2, y1, y3]</td>\n",
       "      <td>[0.62, 0.62, 0.44, -0.14, -0.11, 0.11]</td>\n",
       "      <td>0.709677</td>\n",
       "    </tr>\n",
       "    <tr>\n",
       "      <th>13</th>\n",
       "      <td>1.471409</td>\n",
       "      <td>[pitch2, pitch3, pitch1, x2, x1, x3]</td>\n",
       "      <td>[-0.69, -0.69, 0.17, -0.08, -0.06, 0.06]</td>\n",
       "      <td>-0.246377</td>\n",
       "    </tr>\n",
       "    <tr>\n",
       "      <th>14</th>\n",
       "      <td>0.924978</td>\n",
       "      <td>[yaw3, yaw2, yaw1]</td>\n",
       "      <td>[-0.83, -0.51, -0.23]</td>\n",
       "      <td>0.277108</td>\n",
       "    </tr>\n",
       "    <tr>\n",
       "      <th>15</th>\n",
       "      <td>0.788686</td>\n",
       "      <td>[z2, z3, z1]</td>\n",
       "      <td>[0.59, 0.59, 0.55]</td>\n",
       "      <td>0.932203</td>\n",
       "    </tr>\n",
       "    <tr>\n",
       "      <th>16</th>\n",
       "      <td>0.639328</td>\n",
       "      <td>[roll2, roll3, roll1, y3, y2, y1]</td>\n",
       "      <td>[0.52, 0.52, 0.47, 0.4, 0.24, 0.1]</td>\n",
       "      <td>0.903846</td>\n",
       "    </tr>\n",
       "    <tr>\n",
       "      <th>17</th>\n",
       "      <td>0.635921</td>\n",
       "      <td>[pitch2, pitch3, pitch1, x3, x2, x1]</td>\n",
       "      <td>[0.58, 0.58, 0.41, -0.34, -0.2, -0.09]</td>\n",
       "      <td>0.706897</td>\n",
       "    </tr>\n",
       "  </tbody>\n",
       "</table>\n",
       "</div>"
      ],
      "text/plain": [
       "          Freq                                   DOF                                       Amps  Mode_vis\n",
       "0   257.147333                        [roll2, roll3]                              [0.71, -0.71]       NaN\n",
       "1   212.494410                              [z2, z3]                              [0.71, -0.71]       NaN\n",
       "2    36.149706                      [pitch2, pitch3]                              [-0.71, 0.71]       NaN\n",
       "3     7.258412                 [roll1, roll2, roll3]                        [-0.87, 0.35, 0.35] -2.485714\n",
       "4     5.299131                          [z1, z2, z3]                        [-0.81, 0.42, 0.42] -1.928571\n",
       "5     3.334969                    [yaw1, yaw2, yaw3]                        [0.72, -0.67, 0.17]  4.235294\n",
       "6     2.947610              [pitch1, pitch2, pitch3]                        [-0.98, 0.14, 0.14] -7.000000\n",
       "7     2.605204  [pitch2, pitch3, pitch1, x1, x2, x3]  [-0.69, -0.69, -0.24, -0.01, 0.01, -0.01]  0.347826\n",
       "8     2.532277     [roll2, roll3, roll1, y1, y2, y3]       [0.6, 0.6, 0.54, -0.02, 0.02, -0.01]  0.900000\n",
       "9     2.401853         [roll2, roll3, roll1, y1, y2]              [0.6, 0.6, 0.53, 0.04, -0.03]  0.883333\n",
       "10    2.398922      [pitch2, pitch3, pitch1, x1, x2]              [0.7, 0.7, 0.11, -0.05, 0.03]  0.157143\n",
       "11    2.157312                    [yaw2, yaw3, yaw1]                        [-0.6, 0.57, -0.56] -0.982456\n",
       "12    1.523048     [roll2, roll3, roll1, y2, y1, y3]     [0.62, 0.62, 0.44, -0.14, -0.11, 0.11]  0.709677\n",
       "13    1.471409  [pitch2, pitch3, pitch1, x2, x1, x3]   [-0.69, -0.69, 0.17, -0.08, -0.06, 0.06] -0.246377\n",
       "14    0.924978                    [yaw3, yaw2, yaw1]                      [-0.83, -0.51, -0.23]  0.277108\n",
       "15    0.788686                          [z2, z3, z1]                         [0.59, 0.59, 0.55]  0.932203\n",
       "16    0.639328     [roll2, roll3, roll1, y3, y2, y1]         [0.52, 0.52, 0.47, 0.4, 0.24, 0.1]  0.903846\n",
       "17    0.635921  [pitch2, pitch3, pitch1, x3, x2, x1]     [0.58, 0.58, 0.41, -0.34, -0.2, -0.09]  0.706897"
      ]
     },
     "execution_count": 189,
     "metadata": {},
     "output_type": "execute_result"
    }
   ],
   "source": [
    "original_params()\n",
    "# fig, ax = plt.subplots(figsize = (20,10))\n",
    "mode_amp = tpmodel.eigenmodes(*[getattr(tp, coeff) for coeff in tpmodel.stdcoeffs])\n",
    "print_modes(mode_amp)"
   ]
  },
  {
   "cell_type": "code",
   "execution_count": null,
   "id": "16e53b3c-b6ef-41d7-8c3e-4f6146dcd49b",
   "metadata": {},
   "outputs": [],
   "source": [
    "LeidenData = pd.read_csv(r\"/Users/t.seetharamu.1/Documents/svn/GCIF/GCIF planning/Infrastructure cryogenics/CommonPlatformTriple_4B4W_2x4B4W4W/default/stdcalc/Vibrations CS110-2PT_FromLeiden.txt\",names=['freq','vert','hor'],sep='\\t')\n",
    "\n",
    "fCryo = LeidenData.freq.values\n",
    "vertCryo = LeidenData.vert.values\n",
    "horCryo = LeidenData.hor.values\n",
    "\n",
    "fig,ax = plt.subplots(figsize = (20,10))\n",
    "#ax.loglog(seis_freq,xSei*1e-6,'-b',label='X') #convert from um to m\n",
    "#ax.loglog(seis_freq,ySei*1e-6,'-r',label='Y')\n",
    "#ax.loglog(seis_freq,zSei*1e-6,'-m',label='Z')\n",
    "\n",
    "ax.loglog(fCryo,vertCryo*1e-6,'-k',label='Leiden Vertical')\n",
    "ax.loglog(fCryo,horCryo*1e-6,'-g',label='Leiden Horizontal')\n",
    "ax.grid(True,which='both')\n",
    "ax.legend()\n",
    "ax.set_xlim(1,1000)\n",
    "#ax.set_ylim(1e-12,1e-4)\n",
    "ax.set_xlabel('Frequency [Hz]')\n",
    "ax.set_ylabel('Displacement [m/rtHz]')\n",
    "plt.show()"
   ]
  },
  {
   "cell_type": "code",
   "execution_count": 226,
   "id": "6795a22c-e3da-4328-8747-8ca1506910d7",
   "metadata": {},
   "outputs": [
    {
     "data": {
      "text/plain": [
       "<matplotlib.legend.Legend at 0x16b2f0080>"
      ]
     },
     "execution_count": 226,
     "metadata": {},
     "output_type": "execute_result"
    },
    {
     "data": {
      "image/png": "[encoded data removed]",
      "text/plain": [
       "<Figure size 2000x1000 with 1 Axes>"
      ]
     },
     "metadata": {},
     "output_type": "display_data"
    }
   ],
   "source": [
    "                          \n",
    "ThermalEasy = 1e-17*np.sqrt(100)/np.sqrt(freq)\n",
    "tf = trimio_tf(pend,[\"x00\"],[\"x3\"])\n",
    "mag, phase, omega = ct.frequency_response(tf,omega_limits=[2*pi*0.1,2*pi*1000], Hz = False)\n",
    "LongcryoInterp = np.interp(freq, fCryo, horCryo)\n",
    "MirrorLong_CryoLong= LongcryoInterp * mag.transpose()\n",
    "\n",
    "tf = trimio_tf(pend,[\"y00\"],[\"y3\"])\n",
    "mag, phase, omega = ct.frequency_response(tf,omega_limits=[2*pi*0.1,2*pi*1000], Hz = False)\n",
    "vertcryoInterp = np.interp(freq,fCryo, vertCryo)\n",
    "MirrorVert_CryoVert = vertcryoInterp* mag.transpose()\n",
    "MirrorLong_CryoVert = 0.01*MirrorVert_CryoVert\n",
    "\n",
    "\n",
    "fig,ax= plt.subplots(figsize = (20,10))\n",
    "freq = np.array(omega)/(2*np.pi)\n",
    "ax.loglog(freq,MirrorLong_CryoVert*1e-6*np.sqrt(2),\"-b\", label=\"Length Noise due to vertical Cryocooler noise\")\n",
    "ax.loglog(freq,MirrorLong_CryoLong*1e-6*np.sqrt(2),\"-r\", label=\"Length Noise due to longitudinal Cryocooler noise\")\n",
    "ax.loglog(freq,np.sqrt((MirrorLong_CryoLong*1e-6*np.sqrt(2))**2+ (MirrorLong_CryoVert*1e-6*np.sqrt(2))**2 ) ,\"-k\", label=\"Total Length Noise Cryocooler\")\n",
    "ax.loglog(freq,ThermalEasy*np.sqrt(2),'--r',label='Easy: 10 cm, 1e-17 m/rtHz @100Hz')\n",
    "ax.legend()\n"
   ]
  },
  {
   "cell_type": "code",
   "execution_count": null,
   "id": "d9596b2f-5b9a-4449-a528-fee8356995c7",
   "metadata": {},
   "outputs": [],
   "source": []
  }
 ],
 "metadata": {
  "kernelspec": {
   "display_name": "Python 3 (ipykernel)",
   "language": "python",
   "name": "python3"
  },
  "language_info": {
   "codemirror_mode": {
    "name": "ipython",
    "version": 3
   },
   "file_extension": ".py",
   "mimetype": "text/x-python",
   "name": "python",
   "nbconvert_exporter": "python",
   "pygments_lexer": "ipython3",
   "version": "3.12.7"
  }
 },
 "nbformat": 4,
 "nbformat_minor": 5
}
